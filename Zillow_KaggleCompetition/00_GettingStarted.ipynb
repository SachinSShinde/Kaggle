{
 "cells": [
  {
   "cell_type": "markdown",
   "metadata": {},
   "source": [
    "#### Get the raw_data"
   ]
  },
  {
   "cell_type": "code",
   "execution_count": 1,
   "metadata": {},
   "outputs": [
    {
     "name": "stdout",
     "output_type": "stream",
     "text": [
      "total 720952\r\n",
      "-rw-r--r--@ 1 sachinshinde  staff   340M Jul 21 17:34 zillow-prize-1.zip\r\n"
     ]
    }
   ],
   "source": [
    "!ls -lh raw_data"
   ]
  },
  {
   "cell_type": "markdown",
   "metadata": {
    "collapsed": true
   },
   "source": [
    "Unzip the data"
   ]
  },
  {
   "cell_type": "code",
   "execution_count": 4,
   "metadata": {},
   "outputs": [
    {
     "name": "stdout",
     "output_type": "stream",
     "text": [
      "Archive:  raw_data/zillow-prize-1.zip\n",
      "  inflating: unzipped_data/sample_submission.csv  \n",
      "  inflating: unzipped_data/train_2016_v2.csv  \n",
      "  inflating: unzipped_data/zillow_data_dictionary.xlsx  \n",
      "  inflating: unzipped_data/train_2017.csv  \n",
      "  inflating: unzipped_data/properties_2016.csv  \n",
      "  inflating: unzipped_data/properties_2017.csv  \n"
     ]
    }
   ],
   "source": [
    "%%bash\n",
    "\n",
    "# make a directory called unzipped_data, deleting one if it exists\n",
    "rm -rf unzipped_data\n",
    "mkdir unzipped_data\n",
    "\n",
    "# unzip the raw data into a directory called unzipped_data\n",
    "unzip \"raw_data/*.zip\" -d unzipped_data\n",
    "\n",
    "# rename train_2016_v2.csv to train_2016.csv. there is no V1, so it's all the same to us\n",
    "mv unzipped_data/train_2016_v2.csv unzipped_data/train_2016.csv"
   ]
  },
  {
   "cell_type": "code",
   "execution_count": null,
   "metadata": {
    "collapsed": true
   },
   "outputs": [],
   "source": [
    "Insert Dependencies"
   ]
  },
  {
   "cell_type": "code",
   "execution_count": 5,
   "metadata": {},
   "outputs": [
    {
     "name": "stdout",
     "output_type": "stream",
     "text": [
      "Fetching package metadata .............\n"
     ]
    },
    {
     "name": "stderr",
     "output_type": "stream",
     "text": [
      "\n",
      "CondaEnvironmentNotFoundError: Could not find environment: /anaconda/envs/base .\n",
      "You can list all discoverable environments with `conda info --envs`.\n",
      "\n"
     ]
    }
   ],
   "source": [
    "%%bash \n",
    "\n",
    "conda install pandas xlrd matplotlib scikit-learn"
   ]
  },
  {
   "cell_type": "code",
   "execution_count": 7,
   "metadata": {},
   "outputs": [
    {
     "name": "stderr",
     "output_type": "stream",
     "text": [
      "bash: line 1: !free: command not found\n"
     ]
    }
   ],
   "source": [
    "%%bash\n",
    "!free -m"
   ]
  },
  {
   "cell_type": "code",
   "execution_count": null,
   "metadata": {
    "collapsed": true
   },
   "outputs": [],
   "source": []
  },
  {
   "cell_type": "code",
   "execution_count": null,
   "metadata": {
    "collapsed": true
   },
   "outputs": [],
   "source": []
  }
 ],
 "metadata": {
  "kernelspec": {
   "display_name": "Python 3",
   "language": "python",
   "name": "python3"
  },
  "language_info": {
   "codemirror_mode": {
    "name": "ipython",
    "version": 3
   },
   "file_extension": ".py",
   "mimetype": "text/x-python",
   "name": "python",
   "nbconvert_exporter": "python",
   "pygments_lexer": "ipython3",
   "version": "3.7.3"
  }
 },
 "nbformat": 4,
 "nbformat_minor": 2
}
